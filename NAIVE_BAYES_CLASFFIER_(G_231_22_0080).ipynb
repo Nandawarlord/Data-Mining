{
  "nbformat": 4,
  "nbformat_minor": 0,
  "metadata": {
    "colab": {
      "provenance": []
    },
    "kernelspec": {
      "name": "python3",
      "display_name": "Python 3"
    },
    "language_info": {
      "name": "python"
    }
  },
  "cells": [
    {
      "cell_type": "code",
      "execution_count": 2,
      "metadata": {
        "colab": {
          "base_uri": "https://localhost:8080/"
        },
        "id": "6PPeLKRtcPzK",
        "outputId": "80124631-af34-415f-a002-8e1e1b742346"
      },
      "outputs": [
        {
          "output_type": "execute_result",
          "data": {
            "text/plain": [
              "array([[[ 0.,  0.,  5., ...,  1.,  0.,  0.],\n",
              "        [ 0.,  0., 13., ..., 15.,  5.,  0.],\n",
              "        [ 0.,  3., 15., ..., 11.,  8.,  0.],\n",
              "        ...,\n",
              "        [ 0.,  4., 11., ..., 12.,  7.,  0.],\n",
              "        [ 0.,  2., 14., ..., 12.,  0.,  0.],\n",
              "        [ 0.,  0.,  6., ...,  0.,  0.,  0.]],\n",
              "\n",
              "       [[ 0.,  0.,  0., ...,  5.,  0.,  0.],\n",
              "        [ 0.,  0.,  0., ...,  9.,  0.,  0.],\n",
              "        [ 0.,  0.,  3., ...,  6.,  0.,  0.],\n",
              "        ...,\n",
              "        [ 0.,  0.,  1., ...,  6.,  0.,  0.],\n",
              "        [ 0.,  0.,  1., ...,  6.,  0.,  0.],\n",
              "        [ 0.,  0.,  0., ..., 10.,  0.,  0.]],\n",
              "\n",
              "       [[ 0.,  0.,  0., ..., 12.,  0.,  0.],\n",
              "        [ 0.,  0.,  3., ..., 14.,  0.,  0.],\n",
              "        [ 0.,  0.,  8., ..., 16.,  0.,  0.],\n",
              "        ...,\n",
              "        [ 0.,  9., 16., ...,  0.,  0.,  0.],\n",
              "        [ 0.,  3., 13., ..., 11.,  5.,  0.],\n",
              "        [ 0.,  0.,  0., ..., 16.,  9.,  0.]],\n",
              "\n",
              "       ...,\n",
              "\n",
              "       [[ 0.,  0.,  1., ...,  1.,  0.,  0.],\n",
              "        [ 0.,  0., 13., ...,  2.,  1.,  0.],\n",
              "        [ 0.,  0., 16., ..., 16.,  5.,  0.],\n",
              "        ...,\n",
              "        [ 0.,  0., 16., ..., 15.,  0.,  0.],\n",
              "        [ 0.,  0., 15., ..., 16.,  0.,  0.],\n",
              "        [ 0.,  0.,  2., ...,  6.,  0.,  0.]],\n",
              "\n",
              "       [[ 0.,  0.,  2., ...,  0.,  0.,  0.],\n",
              "        [ 0.,  0., 14., ..., 15.,  1.,  0.],\n",
              "        [ 0.,  4., 16., ..., 16.,  7.,  0.],\n",
              "        ...,\n",
              "        [ 0.,  0.,  0., ..., 16.,  2.,  0.],\n",
              "        [ 0.,  0.,  4., ..., 16.,  2.,  0.],\n",
              "        [ 0.,  0.,  5., ..., 12.,  0.,  0.]],\n",
              "\n",
              "       [[ 0.,  0., 10., ...,  1.,  0.,  0.],\n",
              "        [ 0.,  2., 16., ...,  1.,  0.,  0.],\n",
              "        [ 0.,  0., 15., ..., 15.,  0.,  0.],\n",
              "        ...,\n",
              "        [ 0.,  4., 16., ..., 16.,  6.,  0.],\n",
              "        [ 0.,  8., 16., ..., 16.,  8.,  0.],\n",
              "        [ 0.,  1.,  8., ..., 12.,  1.,  0.]]])"
            ]
          },
          "metadata": {},
          "execution_count": 2
        }
      ],
      "source": [
        "# 1 Import dataset\n",
        "from sklearn.datasets import load_digits\n",
        "digits = load_digits()\n",
        "digits.images.shape # (1797, 8, 8)\n",
        "digits.images # akan menghasilkan matrix of numbers"
      ]
    },
    {
      "cell_type": "code",
      "source": [
        "# 2. Memisahkan feature matrix (X) dengan target label (Y)\n",
        "X = digits.data\n",
        "Y = digits.target"
      ],
      "metadata": {
        "id": "6rCooMLUcYVu"
      },
      "execution_count": 3,
      "outputs": []
    },
    {
      "cell_type": "code",
      "source": [
        "from sklearn.model_selection import train_test_split\n",
        "X_train, X_test, y_train, y_test = train_test_split(X, Y, random_state=0)"
      ],
      "metadata": {
        "id": "8ZWkbg7Ocfrj"
      },
      "execution_count": 5,
      "outputs": []
    },
    {
      "cell_type": "code",
      "execution_count": 8,
      "metadata": {
        "id": "LLmS6Wbvch99"
      },
      "outputs": [],
      "source": [
        "# 4. Training model\n",
        "from sklearn.naive_bayes import GaussianNB\n",
        "model = GaussianNB()\n",
        "model.fit(X_train, y_train) # Use X_train and y_train\n",
        "# training model dengan method fit()\n",
        "ypred = model.predict(X_test) # Use X_test"
      ]
    },
    {
      "cell_type": "code",
      "source": [
        "# 5. Melihat skor akurasi dengan data ytest\n",
        "from sklearn.metrics import accuracy_score\n",
        "accuracy_score(y_test, ypred) # Changed ytest to y_test and y_model to ypred\n",
        "# uji ini menghasilkan 0.8333333333333334"
      ],
      "metadata": {
        "colab": {
          "base_uri": "https://localhost:8080/"
        },
        "id": "IVAG5W5QdHBK",
        "outputId": "aba0440b-4537-439f-f898-5f8a4a3d8de8"
      },
      "execution_count": 13,
      "outputs": [
        {
          "output_type": "execute_result",
          "data": {
            "text/plain": [
              "0.8333333333333334"
            ]
          },
          "metadata": {},
          "execution_count": 13
        }
      ]
    }
  ]
}